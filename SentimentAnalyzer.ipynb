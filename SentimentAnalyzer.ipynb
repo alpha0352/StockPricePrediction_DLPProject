{
 "cells": [
  {
   "cell_type": "code",
   "execution_count": 1,
   "metadata": {},
   "outputs": [],
   "source": [
    "from vaderSentiment.vaderSentiment import SentimentIntensityAnalyzer\n",
    "import pandas as pd\n",
    "import statistics"
   ]
  },
  {
   "cell_type": "markdown",
   "metadata": {},
   "source": [
    "Fortune News Sentiment Analysis"
   ]
  },
  {
   "cell_type": "code",
   "execution_count": 24,
   "metadata": {},
   "outputs": [],
   "source": [
    "df = pd.read_csv('Fortune.csv')\n",
    "\n",
    "# for date in df['date'].unique():\n",
    "    # print(date)\n",
    "df['article title'] = df.groupby(['date'])['article title'].transform(lambda x: ', '.join(x))\n",
    "df = df.drop_duplicates('article title')\n",
    "\n",
    "analyzer = SentimentIntensityAnalyzer()\n",
    "def calculate_score(text):\n",
    "    score = analyzer.polarity_scores(text)['compound']\n",
    "    return score\n",
    "\n",
    "df['compound score'] = df['article title'].apply(calculate_score)\n",
    "print(df)\n",
    "df.to_csv('Fortune_CompoundScore.csv')\n"
   ]
  },
  {
   "cell_type": "markdown",
   "metadata": {},
   "source": [
    "WSJ News Sentiment Analysis"
   ]
  },
  {
   "cell_type": "code",
   "execution_count": null,
   "metadata": {},
   "outputs": [],
   "source": [
    "df = pd.read_csv('WSJ.csv')\n",
    "\n",
    "# for date in df['date'].unique():\n",
    "    # print(date)\n",
    "df['article title'] = df.groupby(['date'])['article title'].transform(lambda x: ', '.join(x))\n",
    "df = df.drop_duplicates('article title')\n",
    "\n",
    "analyzer = SentimentIntensityAnalyzer()\n",
    "def calculate_score(text):\n",
    "    score = analyzer.polarity_scores(text)['compound']\n",
    "    return score\n",
    "\n",
    "df['compound score'] = df['article title'].apply(calculate_score)\n",
    "print(df)\n",
    "df.to_csv('WSJ_CompoundScore.csv')\n"
   ]
  },
  {
   "cell_type": "markdown",
   "metadata": {},
   "source": [
    "CNBC News Sentiment Analysis"
   ]
  },
  {
   "cell_type": "code",
   "execution_count": 3,
   "metadata": {},
   "outputs": [
    {
     "name": "stdout",
     "output_type": "stream",
     "text": [
      "     Unnamed: 0        date category  \\\n",
      "0             0  01/12/2017  Markets   \n",
      "5             6  03/12/2017  Markets   \n",
      "6             7  04/12/2017  Markets   \n",
      "10           12  05/12/2017  Markets   \n",
      "16           22  06/12/2017  Markets   \n",
      "..          ...         ...      ...   \n",
      "832         987  25/06/2018  Markets   \n",
      "834         989  26/06/2018  Markets   \n",
      "839         996  27/06/2018  Finance   \n",
      "849        1006  28/06/2018  Markets   \n",
      "851        1011  29/06/2018  Markets   \n",
      "\n",
      "                                         article title  compound score  \n",
      "0    CME to launch bitcoin futures in three weeks a...         -0.8126  \n",
      "5    Bitcoin hits all-time high above $11,700 as re...          0.0000  \n",
      "6    Cboe announces bitcoin futures to start tradin...          0.4767  \n",
      "10   European shares close lower amid Brexit uncert...         -0.6597  \n",
      "16   H&R Block shares rally after CEO says a changi...          0.2732  \n",
      "..                                                 ...             ...  \n",
      "832  European markets close sharply lower on trade ...         -0.8720  \n",
      "834  Lofty tech stocks nowadays don't carry the sam...          0.8910  \n",
      "839  This\\nAmazon job post may reveal the e-commerc...          0.2782  \n",
      "849  European markets close lower amid ongoing trad...         -0.7003  \n",
      "851  European stocks finish on a high after EU migr...         -0.6367  \n",
      "\n",
      "[165 rows x 5 columns]\n"
     ]
    }
   ],
   "source": [
    "df = pd.read_csv('CNBC.csv')\n",
    "\n",
    "# for date in df['date'].unique():\n",
    "    # print(date)\n",
    "df['article title'] = df.groupby(['date'])['article title'].transform(lambda x: ', '.join(x))\n",
    "df = df.drop_duplicates('article title')\n",
    "\n",
    "analyzer = SentimentIntensityAnalyzer()\n",
    "def calculate_score(text):\n",
    "    score = analyzer.polarity_scores(text)['compound']\n",
    "    return score\n",
    "\n",
    "df['compound score'] = df['article title'].apply(calculate_score)\n",
    "print(df)\n",
    "df.to_csv('CNBC_CompoundScore.csv')\n"
   ]
  }
 ],
 "metadata": {
  "kernelspec": {
   "display_name": "Python 3",
   "language": "python",
   "name": "python3"
  },
  "language_info": {
   "codemirror_mode": {
    "name": "ipython",
    "version": 3
   },
   "file_extension": ".py",
   "mimetype": "text/x-python",
   "name": "python",
   "nbconvert_exporter": "python",
   "pygments_lexer": "ipython3",
   "version": "3.11.0"
  }
 },
 "nbformat": 4,
 "nbformat_minor": 2
}
