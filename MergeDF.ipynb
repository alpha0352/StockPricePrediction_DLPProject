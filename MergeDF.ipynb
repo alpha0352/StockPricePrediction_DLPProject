{
 "cells": [
  {
   "cell_type": "code",
   "execution_count": 12,
   "metadata": {},
   "outputs": [],
   "source": [
    "import pandas as pd"
   ]
  },
  {
   "cell_type": "code",
   "execution_count": 13,
   "metadata": {},
   "outputs": [],
   "source": [
    "df1 = pd.read_csv('WSJ_CompoundScore.csv')\n",
    "df2 = pd.read_csv('Fortune_CompoundScore.csv')\n",
    "df3 = pd.read_csv('CNBC_CompoundScore.csv')"
   ]
  },
  {
   "cell_type": "code",
   "execution_count": null,
   "metadata": {},
   "outputs": [],
   "source": []
  },
  {
   "cell_type": "code",
   "execution_count": 14,
   "metadata": {},
   "outputs": [
    {
     "name": "stdout",
     "output_type": "stream",
     "text": [
      "   Unnamed: 0        date               category  \\\n",
      "0           0  01/12/2017   Financial Regulation   \n",
      "1          54  02/12/2017               Business   \n",
      "2          84  03/12/2017          Central Banks   \n",
      "3         102  04/12/2017          Central Banks   \n",
      "4         144  05/12/2017          Central Banks   \n",
      "\n",
      "                                       article title  compound score  \n",
      "0  Obama-Era Official Will Continue Litigation to...         -0.0082  \n",
      "1  Why Bitcoin? Why Now?, Hospital Giants in Talk...         -0.6760  \n",
      "2  RBA’s Harper Says 5% Likely Not Tipping Point ...         -0.8658  \n",
      "3  Bitcoin Futures Manipulation 101: How ‘Banging...          0.7993  \n",
      "4  Theranos Gets a Financial Lifeline , Tax Overh...         -0.7342   \n",
      "\n",
      "   Unnamed: 0        date   category  \\\n",
      "0           0  01/12/2017   Finance    \n",
      "1           2  04/12/2017   Finance    \n",
      "2           7  05/12/2017   Finance    \n",
      "3          11  06/12/2017   Finance    \n",
      "4          17  07/12/2017   Finance    \n",
      "\n",
      "                                       article title  compound score  \n",
      "0  Stocks Slide on Wall Street After Michael Flyn...         -0.4215  \n",
      "1  Calm Down. Cryptocurrency Is Still a Microscop...          0.5859  \n",
      "2  Why Wall Street Is Skeptical of the CVS-Aetna ...         -0.3182  \n",
      "3  Bitcoin Is Such a Frenzy in South Korea That I...          0.0772  \n",
      "4  This Is the Real Reason the Stock Market Needs...          0.9943   \n",
      "\n",
      "   Unnamed: 0        date category  \\\n",
      "0           0  01/12/2017  Markets   \n",
      "1           6  03/12/2017  Markets   \n",
      "2           7  04/12/2017  Markets   \n",
      "3          12  05/12/2017  Markets   \n",
      "4          22  06/12/2017  Markets   \n",
      "\n",
      "                                       article title  compound score  \n",
      "0  CME to launch bitcoin futures in three weeks a...         -0.8126  \n",
      "1  Bitcoin hits all-time high above $11,700 as re...          0.0000  \n",
      "2  Cboe announces bitcoin futures to start tradin...          0.4767  \n",
      "3  European shares close lower amid Brexit uncert...         -0.6597  \n",
      "4  H&R Block shares rally after CEO says a changi...          0.2732   \n",
      "\n"
     ]
    }
   ],
   "source": [
    "print(df1.head(),\"\\n\")\n",
    "print(df2.head(),\"\\n\")\n",
    "print(df3.head(),\"\\n\")"
   ]
  },
  {
   "cell_type": "code",
   "execution_count": 15,
   "metadata": {},
   "outputs": [
    {
     "data": {
      "text/html": [
       "<div>\n",
       "<style scoped>\n",
       "    .dataframe tbody tr th:only-of-type {\n",
       "        vertical-align: middle;\n",
       "    }\n",
       "\n",
       "    .dataframe tbody tr th {\n",
       "        vertical-align: top;\n",
       "    }\n",
       "\n",
       "    .dataframe thead th {\n",
       "        text-align: right;\n",
       "    }\n",
       "</style>\n",
       "<table border=\"1\" class=\"dataframe\">\n",
       "  <thead>\n",
       "    <tr style=\"text-align: right;\">\n",
       "      <th></th>\n",
       "      <th>date</th>\n",
       "      <th>compound score</th>\n",
       "    </tr>\n",
       "  </thead>\n",
       "  <tbody>\n",
       "    <tr>\n",
       "      <th>0</th>\n",
       "      <td>01/12/2017</td>\n",
       "      <td>-0.8126</td>\n",
       "    </tr>\n",
       "    <tr>\n",
       "      <th>1</th>\n",
       "      <td>03/12/2017</td>\n",
       "      <td>0.0000</td>\n",
       "    </tr>\n",
       "    <tr>\n",
       "      <th>2</th>\n",
       "      <td>04/12/2017</td>\n",
       "      <td>0.4767</td>\n",
       "    </tr>\n",
       "    <tr>\n",
       "      <th>3</th>\n",
       "      <td>05/12/2017</td>\n",
       "      <td>-0.6597</td>\n",
       "    </tr>\n",
       "    <tr>\n",
       "      <th>4</th>\n",
       "      <td>06/12/2017</td>\n",
       "      <td>0.2732</td>\n",
       "    </tr>\n",
       "  </tbody>\n",
       "</table>\n",
       "</div>"
      ],
      "text/plain": [
       "         date  compound score\n",
       "0  01/12/2017         -0.8126\n",
       "1  03/12/2017          0.0000\n",
       "2  04/12/2017          0.4767\n",
       "3  05/12/2017         -0.6597\n",
       "4  06/12/2017          0.2732"
      ]
     },
     "execution_count": 15,
     "metadata": {},
     "output_type": "execute_result"
    }
   ],
   "source": [
    "df1 = df1.drop(columns=['Unnamed: 0','category','article title'])\n",
    "df2 = df2.drop(columns=['Unnamed: 0','category','article title'])\n",
    "df3 = df3.drop(columns=['Unnamed: 0','category','article title'])\n",
    "# df1.head()\n",
    "df3.head()"
   ]
  },
  {
   "cell_type": "code",
   "execution_count": 16,
   "metadata": {},
   "outputs": [],
   "source": [
    "\n",
    "# Convert the 'date' column to datetime type\n",
    "# df1['date'] = pd.to_datetime(df1['date'])\n",
    "# df2['date'] = pd.to_datetime(df2['date'])\n",
    "\n",
    "merged_12 = pd.merge(df1, df2, on='date', how='outer')\n",
    "merged_final = pd.merge(merged_12, df3, on='date', how='outer')\n",
    "\n",
    "merged_final = merged_final.fillna(0)\n",
    "merged_final = merged_final.rename(columns={'compound score_x':'WSJ','compound score_y':'Fortune','compound score':'CNBC'})\n"
   ]
  },
  {
   "cell_type": "code",
   "execution_count": 17,
   "metadata": {},
   "outputs": [
    {
     "data": {
      "text/html": [
       "<div>\n",
       "<style scoped>\n",
       "    .dataframe tbody tr th:only-of-type {\n",
       "        vertical-align: middle;\n",
       "    }\n",
       "\n",
       "    .dataframe tbody tr th {\n",
       "        vertical-align: top;\n",
       "    }\n",
       "\n",
       "    .dataframe thead th {\n",
       "        text-align: right;\n",
       "    }\n",
       "</style>\n",
       "<table border=\"1\" class=\"dataframe\">\n",
       "  <thead>\n",
       "    <tr style=\"text-align: right;\">\n",
       "      <th></th>\n",
       "      <th>date</th>\n",
       "      <th>WSJ</th>\n",
       "      <th>Fortune</th>\n",
       "      <th>CNBC</th>\n",
       "    </tr>\n",
       "  </thead>\n",
       "  <tbody>\n",
       "    <tr>\n",
       "      <th>0</th>\n",
       "      <td>01/12/2017</td>\n",
       "      <td>-0.0082</td>\n",
       "      <td>-0.4215</td>\n",
       "      <td>-0.8126</td>\n",
       "    </tr>\n",
       "    <tr>\n",
       "      <th>1</th>\n",
       "      <td>02/12/2017</td>\n",
       "      <td>-0.6760</td>\n",
       "      <td>0.0000</td>\n",
       "      <td>0.0000</td>\n",
       "    </tr>\n",
       "    <tr>\n",
       "      <th>2</th>\n",
       "      <td>03/12/2017</td>\n",
       "      <td>-0.8658</td>\n",
       "      <td>0.0000</td>\n",
       "      <td>0.0000</td>\n",
       "    </tr>\n",
       "    <tr>\n",
       "      <th>3</th>\n",
       "      <td>04/12/2017</td>\n",
       "      <td>0.7993</td>\n",
       "      <td>0.5859</td>\n",
       "      <td>0.4767</td>\n",
       "    </tr>\n",
       "    <tr>\n",
       "      <th>4</th>\n",
       "      <td>05/12/2017</td>\n",
       "      <td>-0.7342</td>\n",
       "      <td>-0.3182</td>\n",
       "      <td>-0.6597</td>\n",
       "    </tr>\n",
       "  </tbody>\n",
       "</table>\n",
       "</div>"
      ],
      "text/plain": [
       "         date     WSJ  Fortune    CNBC\n",
       "0  01/12/2017 -0.0082  -0.4215 -0.8126\n",
       "1  02/12/2017 -0.6760   0.0000  0.0000\n",
       "2  03/12/2017 -0.8658   0.0000  0.0000\n",
       "3  04/12/2017  0.7993   0.5859  0.4767\n",
       "4  05/12/2017 -0.7342  -0.3182 -0.6597"
      ]
     },
     "execution_count": 17,
     "metadata": {},
     "output_type": "execute_result"
    }
   ],
   "source": [
    "merged_final.head()"
   ]
  },
  {
   "cell_type": "code",
   "execution_count": 19,
   "metadata": {},
   "outputs": [],
   "source": [
    "merged_final.to_csv('merged_df.csv',index=False)"
   ]
  }
 ],
 "metadata": {
  "kernelspec": {
   "display_name": "Python 3",
   "language": "python",
   "name": "python3"
  },
  "language_info": {
   "codemirror_mode": {
    "name": "ipython",
    "version": 3
   },
   "file_extension": ".py",
   "mimetype": "text/x-python",
   "name": "python",
   "nbconvert_exporter": "python",
   "pygments_lexer": "ipython3",
   "version": "3.11.0"
  }
 },
 "nbformat": 4,
 "nbformat_minor": 2
}
